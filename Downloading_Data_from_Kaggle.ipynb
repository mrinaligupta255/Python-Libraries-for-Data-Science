{
  "nbformat": 4,
  "nbformat_minor": 0,
  "metadata": {
    "colab": {
      "name": "Downloading Data from Kaggle.ipynb",
      "provenance": [],
      "authorship_tag": "ABX9TyO6DhU1CV47xtZ68Sc6kOhZ",
      "include_colab_link": true
    },
    "kernelspec": {
      "name": "python3",
      "display_name": "Python 3"
    },
    "accelerator": "GPU"
  },
  "cells": [
    {
      "cell_type": "markdown",
      "metadata": {
        "id": "view-in-github",
        "colab_type": "text"
      },
      "source": [
        "<a href=\"https://colab.research.google.com/github/mringupt/Python-Libraries-for-Data-Science/blob/master/Downloading_Data_from_Kaggle.ipynb\" target=\"_parent\"><img src=\"https://colab.research.google.com/assets/colab-badge.svg\" alt=\"Open In Colab\"/></a>"
      ]
    },
    {
      "cell_type": "markdown",
      "metadata": {
        "id": "qcm-vVO8VTg8",
        "colab_type": "text"
      },
      "source": [
        "#Downloading data from Kaggle"
      ]
    },
    {
      "cell_type": "markdown",
      "metadata": {
        "id": "1aiD9IZpgUkP",
        "colab_type": "text"
      },
      "source": [
        "##1. Mount your Google Drive"
      ]
    },
    {
      "cell_type": "code",
      "metadata": {
        "id": "HdCWAYj9fc1x",
        "colab_type": "code",
        "outputId": "bf9e62ff-dee4-4ccb-8d1f-691580553013",
        "colab": {
          "base_uri": "https://localhost:8080/",
          "height": 35
        }
      },
      "source": [
        "from google.colab import drive\n",
        "drive.mount('/content/gdrive')"
      ],
      "execution_count": 0,
      "outputs": [
        {
          "output_type": "stream",
          "text": [
            "Drive already mounted at /content/gdrive; to attempt to forcibly remount, call drive.mount(\"/content/gdrive\", force_remount=True).\n"
          ],
          "name": "stdout"
        }
      ]
    },
    {
      "cell_type": "markdown",
      "metadata": {
        "id": "e0-u4_WpgdiG",
        "colab_type": "text"
      },
      "source": [
        "##2.Place kaggle.json into your drive\n",
        "I have placed it in folder kaggle .If u dont have a kaggle folder you can create one using the mkdir command and provide the path for json file"
      ]
    },
    {
      "cell_type": "code",
      "metadata": {
        "id": "lb9VVFWykU1C",
        "colab_type": "code",
        "colab": {}
      },
      "source": [
        "#!mkdir kaggle            -- to make a directory\n",
        "#!ls                      -- to check the content of the folder\n",
        "#!pwd                     -- to check the present working directory"
      ],
      "execution_count": 0,
      "outputs": []
    },
    {
      "cell_type": "code",
      "metadata": {
        "id": "ziwPVsm-fDg_",
        "colab_type": "code",
        "colab": {}
      },
      "source": [
        "import os\n",
        "os.environ['KAGGLE_CONFIG_DIR'] = \"/content/gdrive/My Drive/kaggle\"\n"
      ],
      "execution_count": 0,
      "outputs": []
    },
    {
      "cell_type": "markdown",
      "metadata": {
        "id": "5tBWCTNnncvF",
        "colab_type": "text"
      },
      "source": [
        "##3. Creating the directory and downloading the data"
      ]
    },
    {
      "cell_type": "code",
      "metadata": {
        "id": "ki_HzQmniSHF",
        "colab_type": "code",
        "outputId": "8157e548-bf62-4680-cb50-b8a9a5f2cda8",
        "colab": {
          "base_uri": "https://localhost:8080/",
          "height": 52
        }
      },
      "source": [
        "#changing the directory\n",
        "%cd kaggle/"
      ],
      "execution_count": 0,
      "outputs": [
        {
          "output_type": "stream",
          "text": [
            "[Errno 2] No such file or directory: 'kaggle/'\n",
            "/content/gdrive/My Drive/kaggle\n"
          ],
          "name": "stdout"
        }
      ]
    },
    {
      "cell_type": "code",
      "metadata": {
        "id": "OV6xwAckirjI",
        "colab_type": "code",
        "colab": {}
      },
      "source": [
        "#creating the folder to download my data from kaggle\n",
        "!mkdir talkingdata-adtracking-fraud-detection"
      ],
      "execution_count": 0,
      "outputs": []
    },
    {
      "cell_type": "code",
      "metadata": {
        "id": "B8DyTMblmzvM",
        "colab_type": "code",
        "colab": {}
      },
      "source": [
        "#Make a folder 'talkingdata-adtracking-fraud-detection' to download the data from kaggle\n",
        "%cd  talkingdata-adtracking-fraud-detection"
      ],
      "execution_count": 0,
      "outputs": []
    },
    {
      "cell_type": "code",
      "metadata": {
        "id": "dsIBmpsVfI2-",
        "colab_type": "code",
        "colab": {}
      },
      "source": [
        "#downloading the dataset from kaggle into 'talkingdata-adtracking-fraud-detection' folder\n",
        "!kaggle competitions download -c talkingdata-adtracking-fraud-detection\n"
      ],
      "execution_count": 0,
      "outputs": []
    },
    {
      "cell_type": "code",
      "metadata": {
        "id": "HBJFBvGVnl53",
        "colab_type": "code",
        "outputId": "7f281568-e82a-4c2b-e71c-dc824d5d6a50",
        "colab": {
          "base_uri": "https://localhost:8080/",
          "height": 295
        }
      },
      "source": [
        "#unzipping the zip files and deleting the zip files\n",
        "!unzip \\*.zip  && rm *.zip"
      ],
      "execution_count": 0,
      "outputs": [
        {
          "output_type": "stream",
          "text": [
            "Archive:  train_sample.csv.zip\n",
            "  inflating: train_sample.csv        \n",
            "\n",
            "Archive:  sample_submission.csv.zip\n",
            "  inflating: sample_submission.csv   \n",
            "\n",
            "Archive:  train.csv.zip\n",
            "  inflating: train.csv               \n",
            "\n",
            "Archive:  test.csv.zip\n",
            "  inflating: test.csv                \n",
            "\n",
            "Archive:  test_supplement.csv.zip\n",
            "  inflating: test_supplement.csv     \n",
            "\n",
            "5 archives were successfully processed.\n"
          ],
          "name": "stdout"
        }
      ]
    },
    {
      "cell_type": "code",
      "metadata": {
        "id": "K3rAE7VvqvK5",
        "colab_type": "code",
        "outputId": "d2e002f2-2269-405a-ff3a-dd7129473b8a",
        "colab": {
          "base_uri": "https://localhost:8080/",
          "height": 35
        }
      },
      "source": [
        "pwd"
      ],
      "execution_count": 0,
      "outputs": [
        {
          "output_type": "execute_result",
          "data": {
            "text/plain": [
              "'/content/gdrive/My Drive/kaggle/talkingdata-adtracking-fraud-detection'"
            ]
          },
          "metadata": {
            "tags": []
          },
          "execution_count": 89
        }
      ]
    },
    {
      "cell_type": "code",
      "metadata": {
        "id": "CUrXvKxqw9Zp",
        "colab_type": "code",
        "colab": {}
      },
      "source": [
        ""
      ],
      "execution_count": 0,
      "outputs": []
    }
  ]
}