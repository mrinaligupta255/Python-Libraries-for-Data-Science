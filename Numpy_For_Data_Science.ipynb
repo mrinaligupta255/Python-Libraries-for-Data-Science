{
  "nbformat": 4,
  "nbformat_minor": 0,
  "metadata": {
    "colab": {
      "name": "Numpy For Data Science.ipynb",
      "provenance": [],
      "collapsed_sections": [],
      "include_colab_link": true
    },
    "kernelspec": {
      "name": "python3",
      "display_name": "Python 3"
    }
  },
  "cells": [
    {
      "cell_type": "markdown",
      "metadata": {
        "id": "view-in-github",
        "colab_type": "text"
      },
      "source": [
        "<a href=\"https://colab.research.google.com/github/mrinaligupta255/Python-Libraries-for-Data-Science/blob/master/Numpy_For_Data_Science.ipynb\" target=\"_parent\"><img src=\"https://colab.research.google.com/assets/colab-badge.svg\" alt=\"Open In Colab\"/></a>"
      ]
    },
    {
      "cell_type": "markdown",
      "metadata": {
        "id": "8XnyvSNQoSqs",
        "colab_type": "text"
      },
      "source": [
        "**Basics of Numpy**"
      ]
    },
    {
      "cell_type": "markdown",
      "metadata": {
        "id": "rJW6vhi6oe2m",
        "colab_type": "text"
      },
      "source": [
        " \n",
        "\n",
        "1.   Importing the library\n",
        "\n"
      ]
    },
    {
      "cell_type": "code",
      "metadata": {
        "id": "ZuoAWNTSobpq",
        "colab_type": "code",
        "colab": {}
      },
      "source": [
        "import numpy as np"
      ],
      "execution_count": 0,
      "outputs": []
    },
    {
      "cell_type": "markdown",
      "metadata": {
        "id": "moWVE5aHpttR",
        "colab_type": "text"
      },
      "source": [
        "\n",
        "\n",
        "2. Creating a Numpy array\n",
        "\n"
      ]
    },
    {
      "cell_type": "code",
      "metadata": {
        "id": "8cZe3vKKol8U",
        "colab_type": "code",
        "outputId": "79a86b1a-492f-4eeb-aa88-2ef8d858a981",
        "colab": {
          "base_uri": "https://localhost:8080/",
          "height": 69
        }
      },
      "source": [
        "a1=np.array([1,2,3,4])  # a numpy array by converting python list to array\n",
        "a2=np.arange(0,20,2) # create a numpy array starting from 0-20 by skipping 2 steps (here 20 is exclusive)\n",
        "\n",
        "a3=np.linspace(2,10,4)# create a evenly spaced numpy array between given range with 4 elements(4 represent the no. of elements thatshould be present in the array)\n",
        "\n",
        "print('a1:',a1)\n",
        "print('a2:',a2)\n",
        "print('a3:',a3)"
      ],
      "execution_count": 0,
      "outputs": [
        {
          "output_type": "stream",
          "text": [
            "a1: [1 2 3 4]\n",
            "a2: [ 0  2  4  6  8 10 12 14 16 18]\n",
            "a3: [ 2.          4.66666667  7.33333333 10.        ]\n"
          ],
          "name": "stdout"
        }
      ]
    },
    {
      "cell_type": "markdown",
      "metadata": {
        "id": "xOl-dMM-rAJg",
        "colab_type": "text"
      },
      "source": [
        "**Numpy array are faster in terms of compution and ease of manipulation than normal python arrays/list**\n",
        "\n",
        "**np.linspace(start, stop, num=50, endpoint=True, retstep=False, dtype=None)**\n",
        "\n",
        ">>np.linspace ( ) has 6 parameters :\n",
        "\n",
        ">>>start — Starting value of the sequence\n",
        "\n",
        ">>>stop — Last value of the sequence\n",
        "\n",
        ">>>num — Number of samples to be generated\n",
        "\n",
        ">>>endpoint — This is a boolean value. If the value of endpoint is true, then stop is the last sample of the sequence. The default value of endpoint is true.\n",
        "\n",
        ">>>retstep — Default value is true. If the value of retstep is true then return samples and steps(the difference between 2 samples)\n",
        "\n",
        ">>>dtype — The type of array or matrices\n",
        "\n",
        "**By default, np.linspace( ) created one dimensional array, if you want to create 2-Dimensional or 3-Dimensional matrices, you can use np.reshape ( ) with np.linspace .**"
      ]
    },
    {
      "cell_type": "markdown",
      "metadata": {
        "id": "xLZIyL-QCFMp",
        "colab_type": "text"
      },
      "source": [
        "3. Properties of numpy array\n",
        "\n",
        ">.size : returns no. of elements in an array\n",
        "\n",
        ">.shape: returns the dimensions of array\n",
        "\n",
        ">.dtype:returns type of elements in array\n",
        "\n",
        ">.astype(dtype): returns an  array after converting the dtype of the array into given dtype\n",
        "\n",
        ">np.info(): To view Documentation"
      ]
    },
    {
      "cell_type": "code",
      "metadata": {
        "id": "7VgWHuPfqGeP",
        "colab_type": "code",
        "outputId": "0d93ef0e-0efd-40d8-8cff-176a8350c451",
        "colab": {
          "base_uri": "https://localhost:8080/",
          "height": 121
        }
      },
      "source": [
        "print(a1.size)\n",
        "print(a1.shape)\n",
        "print(a1.dtype)\n",
        "w=a1.astype(float)# It will return a array with the give dtype without changing the dtype of a1\n",
        "print(a1.dtype)  # the dtype of a1 will not change\n",
        "print(w.dtype)\n",
        "print(np.info(np.eye))"
      ],
      "execution_count": 0,
      "outputs": [
        {
          "output_type": "stream",
          "text": [
            "4\n",
            "(4,)\n",
            "int64\n",
            "int64\n",
            "float64\n",
            "None\n"
          ],
          "name": "stdout"
        }
      ]
    },
    {
      "cell_type": "markdown",
      "metadata": {
        "id": "kJSFIkj8CN7r",
        "colab_type": "text"
      },
      "source": [
        "**(4,) indicates that it is a 1-D array as it has only one dimension**\n",
        "\n",
        "4. Reshaping the numpy array: no of elements will remain same\n",
        "\n",
        " Resize the numpy array :no of elements depends on the shape given\n",
        " >**ndarray.resize((n,m), refcheck=True)**   \n",
        " Changes array shape to nxm and fills new values with 0\n",
        " >>(n,m) : tuple of ints, or n ints\n",
        "                Shape of resized array.\n",
        "\n",
        "   >>refcheck : bool, optional\n",
        "\n",
        "               If False, reference count will not be checked. Default is True.\n",
        "               \n",
        "        \n",
        " >> ##NOTES##\n",
        "               \n",
        " >>>This reallocates space for the data area if necessary.\n",
        "\n",
        ">>>Only contiguous arrays (data elements consecutive in memory) can be resized.\n",
        "\n",
        ">>>The purpose of the reference count check is to make sure you do not use this array as a buffer for another Python object and then reallocate the memory. However, reference counts can increase in other ways so if you are sure that you have not shared the memory for this array with another Python object, then you may safely set refcheck to False.\n",
        "\n",
        "\n"
      ]
    },
    {
      "cell_type": "code",
      "metadata": {
        "id": "TlC8C4kBCpw2",
        "colab_type": "code",
        "outputId": "ef6ae92e-847e-4ab8-ef31-eea7c18ad0e0",
        "colab": {
          "base_uri": "https://localhost:8080/",
          "height": 381
        }
      },
      "source": [
        "a1=np.array([1,2,3,4])\n",
        "a3=a1.reshape(2,2) # returns a matrix of shape 2x2 ...It does not change the dimensoin of a1\n",
        "print(a3)\n",
        "print('shape of a3:',a3.shape)\n",
        "print('shape of a1:',a1.shape)\n",
        "\n",
        "a2=np.arange(1,8,1)\n",
        "print('a2:',a2)\n",
        "a2.resize(6,6) # resize the given array and fill new values with 0, it changes a2 array itself\n",
        "print('a2 after resizing:',a2)\n",
        "print('shape of a2 after resizing:',a2.shape)\n",
        "\n",
        "#a1.resize(9,9)  #this will cause error as as a1 is referenced to a3.Therfore usredchek=False to avoid checking the reference\n",
        "a1.resize((9,9),refcheck=False)\n",
        "print('a1 after resizing:',a1)\n"
      ],
      "execution_count": 0,
      "outputs": [
        {
          "output_type": "stream",
          "text": [
            "[[1 2]\n",
            " [3 4]]\n",
            "shape of a3: (2, 2)\n",
            "shape of a1: (4,)\n",
            "a2: [1 2 3 4 5 6 7]\n",
            "a2 after resizing: [[1 2 3 4 5 6]\n",
            " [7 0 0 0 0 0]\n",
            " [0 0 0 0 0 0]\n",
            " [0 0 0 0 0 0]\n",
            " [0 0 0 0 0 0]\n",
            " [0 0 0 0 0 0]]\n",
            "shape of a2 after resizing: (6, 6)\n",
            "a1 after resizing: [[1 2 3 4 0 0 0 0 0]\n",
            " [0 0 0 0 0 0 0 0 0]\n",
            " [0 0 0 0 0 0 0 0 0]\n",
            " [0 0 0 0 0 0 0 0 0]\n",
            " [0 0 0 0 0 0 0 0 0]\n",
            " [0 0 0 0 0 0 0 0 0]\n",
            " [0 0 0 0 0 0 0 0 0]\n",
            " [0 0 0 0 0 0 0 0 0]\n",
            " [0 0 0 0 0 0 0 0 0]]\n"
          ],
          "name": "stdout"
        }
      ]
    },
    {
      "cell_type": "markdown",
      "metadata": {
        "id": "Uv1jBRXHEYcn",
        "colab_type": "text"
      },
      "source": [
        "**The dimension inside reshape should match with the array to be reshaped**\n"
      ]
    },
    {
      "cell_type": "markdown",
      "metadata": {
        "id": "7tU7egeKE3VI",
        "colab_type": "text"
      },
      "source": [
        "5.   np.zeros((n,m)) : **returns a nxm matrix with all zeros**\n",
        "\n",
        "     np.ones((n,m)) : **returns a nxm matrix with all 1**\n",
        "\n",
        "     np.eye(n): **returns a Identity matrix of shape nxn**\n",
        "     \n",
        "     np.full(shape, fill_value, dtype = None, order = ‘C’) : **returns a matrix of given shape with default values**\n",
        "  \n",
        "\n"
      ]
    },
    {
      "cell_type": "code",
      "metadata": {
        "id": "hiPBtU1fDIu9",
        "colab_type": "code",
        "outputId": "bddea162-9f8d-43e4-9433-8c2d79fa3960",
        "colab": {
          "base_uri": "https://localhost:8080/",
          "height": 191
        }
      },
      "source": [
        "a4=np.zeros((3,4))\n",
        "print(a4)\n",
        "a5=np.eye(4)\n",
        "print(a5)\n",
        "a5=np.full((3,2),5)\n",
        "print(a5)"
      ],
      "execution_count": 0,
      "outputs": [
        {
          "output_type": "stream",
          "text": [
            "[[0. 0. 0. 0.]\n",
            " [0. 0. 0. 0.]\n",
            " [0. 0. 0. 0.]]\n",
            "[[1. 0. 0. 0.]\n",
            " [0. 1. 0. 0.]\n",
            " [0. 0. 1. 0.]\n",
            " [0. 0. 0. 1.]]\n",
            "[[5 5]\n",
            " [5 5]\n",
            " [5 5]]\n"
          ],
          "name": "stdout"
        }
      ]
    },
    {
      "cell_type": "markdown",
      "metadata": {
        "id": "v5VDPIRRqrRh",
        "colab_type": "text"
      },
      "source": [
        "6. Numpy array slicing \n",
        "\n",
        "    x[start:end:step] \n",
        "    \n",
        "      **'start'**:starting index\n",
        "\n",
        "      **'end'**: end index(it will be exclusive)\n",
        "\n",
        "      **'step'**: skipping by step "
      ]
    },
    {
      "cell_type": "code",
      "metadata": {
        "id": "v9o_NtMFM7us",
        "colab_type": "code",
        "outputId": "f274e16c-5049-4e65-de1a-e8da12dd9358",
        "colab": {
          "base_uri": "https://localhost:8080/",
          "height": 156
        }
      },
      "source": [
        "a6=a2[2:10:3]\n",
        "print(a2)\n",
        "print(a6)"
      ],
      "execution_count": 0,
      "outputs": [
        {
          "output_type": "stream",
          "text": [
            "[[1 2 3 4 5 6]\n",
            " [7 0 0 0 0 0]\n",
            " [0 0 0 0 0 0]\n",
            " [0 0 0 0 0 0]\n",
            " [0 0 0 0 0 0]\n",
            " [0 0 0 0 0 0]]\n",
            "[[0 0 0 0 0 0]\n",
            " [0 0 0 0 0 0]]\n"
          ],
          "name": "stdout"
        }
      ]
    },
    {
      "cell_type": "markdown",
      "metadata": {
        "id": "Ybg0ljLdMVoW",
        "colab_type": "text"
      },
      "source": [
        "**If any of the parameters are unspecified , they default to the values start=0, stop=size of dimension, step=1**\n",
        "\n",
        "**When step Value is -ve then the default to the values of start=size of dimension, stop=0. start should be greater than the end**\n",
        "\n"
      ]
    },
    {
      "cell_type": "code",
      "metadata": {
        "id": "wmbB2YIWFygR",
        "colab_type": "code",
        "outputId": "f962cffa-f37e-41af-ea8d-8a8eb2fa83c7",
        "colab": {
          "base_uri": "https://localhost:8080/",
          "height": 173
        }
      },
      "source": [
        "a7=a2[::-1]  # reverse the array\n",
        "print(a7)\n",
        "a8=a2[6:2:-1]  # a8 will be having elements from index 6 to index 2(index 2 is exclusive) in reverse order\n",
        "print(a8)"
      ],
      "execution_count": 0,
      "outputs": [
        {
          "output_type": "stream",
          "text": [
            "[[0 0 0 0 0 0]\n",
            " [0 0 0 0 0 0]\n",
            " [0 0 0 0 0 0]\n",
            " [0 0 0 0 0 0]\n",
            " [7 0 0 0 0 0]\n",
            " [1 2 3 4 5 6]]\n",
            "[[0 0 0 0 0 0]\n",
            " [0 0 0 0 0 0]\n",
            " [0 0 0 0 0 0]]\n"
          ],
          "name": "stdout"
        }
      ]
    },
    {
      "cell_type": "markdown",
      "metadata": {
        "id": "cJ2TxNRgUP8j",
        "colab_type": "text"
      },
      "source": [
        "7.Copying of numpy arrays \n",
        "\n",
        "    One important–and extremely useful–thing to know about array slices is that they return views rather than copies of the array data. This is one area in which NumPy array slicing differs from Python list slicing: in lists, slices will be copies "
      ]
    },
    {
      "cell_type": "code",
      "metadata": {
        "id": "b0LeCLfOPD1Z",
        "colab_type": "code",
        "outputId": "f13accbb-1d83-4257-bf7c-ba7fb997efba",
        "colab": {
          "base_uri": "https://localhost:8080/",
          "height": 104
        }
      },
      "source": [
        "x_numpy=np.arange(0,20,3)\n",
        "x_list=[0,3,6,9,12,15,18]\n",
        "y=x_numpy[3:7]\n",
        "z=x_list[3:7]\n",
        "print('x:',x_numpy)\n",
        "print('y:',y)\n",
        "print('z:',z)\n",
        "y[0]=100\n",
        "z[0]=100\n",
        "print('x_numpy:',x_numpy,'x_numpy is changed')\n",
        "print('x_list:',x_list,'x_list is same')"
      ],
      "execution_count": 0,
      "outputs": [
        {
          "output_type": "stream",
          "text": [
            "x: [ 0  3  6  9 12 15 18]\n",
            "y: [ 9 12 15 18]\n",
            "z: [9, 12, 15, 18]\n",
            "x_numpy: [  0   3   6 100  12  15  18] x_numpy is changed\n",
            "x_list: [0, 3, 6, 9, 12, 15, 18] x_list is same\n"
          ],
          "name": "stdout"
        }
      ]
    },
    {
      "cell_type": "markdown",
      "metadata": {
        "id": "bzE74zx4V3LP",
        "colab_type": "text"
      },
      "source": [
        "**This default behavior is actually quite useful: it means that when we work with large datasets, we can access and process pieces of these datasets without the need to copy the underlying data buffer.**\n",
        "\n",
        "To create copy of the numpy array ,use copy() method"
      ]
    },
    {
      "cell_type": "code",
      "metadata": {
        "id": "2RfFjjHgUsBW",
        "colab_type": "code",
        "outputId": "f84db661-1cb7-4ffc-cf82-c68fcd5fcc8b",
        "colab": {
          "base_uri": "https://localhost:8080/",
          "height": 52
        }
      },
      "source": [
        "x=np.arange(0,20,3)\n",
        "x1=x[3:7].copy()\n",
        "x1[0]=100\n",
        "print('x:',x)\n",
        "print('x1:',x1)"
      ],
      "execution_count": 0,
      "outputs": [
        {
          "output_type": "stream",
          "text": [
            "x: [ 0  3  6  9 12 15 18]\n",
            "x1: [100  12  15  18]\n"
          ],
          "name": "stdout"
        }
      ]
    },
    {
      "cell_type": "markdown",
      "metadata": {
        "id": "bZz-E7CcWeP_",
        "colab_type": "text"
      },
      "source": [
        "8. Axis in numpy array:\n",
        ">>**An axis is similar to a dimension. For a 2-dimensional array, there are 2 axes: vertical and horizontal.When applying certain Numpy functions like np.mean(), we can specify what axis we want to calculate the values across.**\n",
        "\n",
        ">>For axis=0, this means that we apply a function along each “column”, or all values that occur vertically.\n",
        "\n",
        ">>For axis=1, this means that we apply a function along each “row”, or all values horizontally.\n",
        "\n",
        ">>For n dimensions , nth dimension is collapsed and then operation is performed."
      ]
    },
    {
      "cell_type": "code",
      "metadata": {
        "id": "MqYgM_uLWd_Q",
        "colab_type": "code",
        "outputId": "4d17f713-2f33-48b0-8323-fcc0177e7ce9",
        "colab": {
          "base_uri": "https://localhost:8080/",
          "height": 52
        }
      },
      "source": [
        "x=np.array([[1,2,3],[1,2,3]])\n",
        "print(np.sum(x,axis=0)) ## axis 0 will collapse the first dimension i.e rows and then will perform the sum.\n",
        "print(np.sum(x,axis=1)) ## axis 1 will collapse the senond dimension i.e columns and will perform sum operation."
      ],
      "execution_count": 0,
      "outputs": [
        {
          "output_type": "stream",
          "text": [
            "[2 4 6]\n",
            "[6 6]\n"
          ],
          "name": "stdout"
        }
      ]
    },
    {
      "cell_type": "markdown",
      "metadata": {
        "id": "sxfZghhDS8I1",
        "colab_type": "text"
      },
      "source": [
        "9.Adding/Removing elements from numpy array\n",
        "\n",
        ">>numpy.append(arr, values, axis=None):**returns a copy of arr with appended values to the end of the array**\n",
        "\n",
        ">>>axis=The axis along which values are appended. If axis is not given, both arr and values are flattened before use.\n",
        "\n",
        ">>numpy.insert(arr, obj, values, axis=None): **returns a copy of arr with values inserted along the given axis before the given indices.**\n",
        "\n",
        ">>>obj : int, slice or sequence of ints\n",
        "\n",
        ">>>>Object that defines the index or indices before which values is inserted.\n",
        "\n",
        ">>>axis : int, optional\n",
        ">>>>Axis along which to insert values. If axis is None then arr is flattened first.\n",
        "\n",
        ">>numpy.delete(arr, obj, axis=None):**Return a new array with sub-arrays along an axis deleted. For a one dimensional array, this returns those entries not returned by arr[obj].**"
      ]
    },
    {
      "cell_type": "code",
      "metadata": {
        "id": "5jedfp9tTtT-",
        "colab_type": "code",
        "outputId": "305a211f-3106-4864-a3b3-871bebe873f2",
        "colab": {
          "base_uri": "https://localhost:8080/",
          "height": 433
        }
      },
      "source": [
        "#append\n",
        "\n",
        "print('-----APPEND----')\n",
        "x=np.array([[1,2,3]])\n",
        "w=np.append(x,[[1,2,3],[3,4,5],[7,8,9]])\n",
        "y=np.append(x,[[4]],axis=1)\n",
        "z=np.append(x,[[1,2,3],[3,4,5],[7,8,9]],axis=0)\n",
        "print('not changed,x:',x)\n",
        "print('no axis is given...so output is flattened after appending:',w)\n",
        "print('appening in axis 1:',y)\n",
        "print('appending in axis 0:',z)\n",
        "\n",
        "\n",
        "#insert\n",
        "print('----INSERT----------')\n",
        "x=np.array([[1,2,3]])\n",
        "w=np.insert(x,1,[7,8,9])\n",
        "y=np.insert(x,1,[7,8,9],axis=0)\n",
        "z=np.insert(x,2,[[4]],axis=1)\n",
        "print('not changed,x:',x)\n",
        "print('no axis is given...so output is flattened after insertion:',w)\n",
        "print('inserting in axis 1:',y)\n",
        "print('inserting in axis 0:',z)\n",
        "\n",
        "#delete\n",
        "\n",
        "print('---------Delete---------')\n",
        "x=np.array([[1,2,3,4], [5,6,7,8], [9,10,11,12]])\n",
        "w=np.delete(x,1)\n",
        "y=np.delete(x,1,axis=0)\n",
        "z=np.delete(x,2,axis=1)\n",
        "print('not changed,x:',x)\n",
        "print('no axis is given...so output is flattened after deletion:',w)\n",
        "print('deletion in axis 1:',y)\n",
        "print('deletion in axis 0:',z)\n",
        "\n"
      ],
      "execution_count": 0,
      "outputs": [
        {
          "output_type": "stream",
          "text": [
            "-----APPEND----\n",
            "not changed,x: [[1 2 3]]\n",
            "no axis is given...so output is flattened after appending: [1 2 3 1 2 3 3 4 5 7 8 9]\n",
            "appening in axis 1: [[1 2 3 4]]\n",
            "appending in axis 0: [[1 2 3]\n",
            " [1 2 3]\n",
            " [3 4 5]\n",
            " [7 8 9]]\n",
            "----INSERT----------\n",
            "not changed,x: [[1 2 3]]\n",
            "no axis is given...so output is flattened after insertion: [1 7 8 9 2 3]\n",
            "inserting in axis 1: [[1 2 3]\n",
            " [7 8 9]]\n",
            "inserting in axis 0: [[1 2 4 3]]\n",
            "---------Delete---------\n",
            "not changed,x: [[ 1  2  3  4]\n",
            " [ 5  6  7  8]\n",
            " [ 9 10 11 12]]\n",
            "no axis is given...so output is flattened after deletion: [ 1  3  4  5  6  7  8  9 10 11 12]\n",
            "deletion in axis 1: [[ 1  2  3  4]\n",
            " [ 9 10 11 12]]\n",
            "deletion in axis 0: [[ 1  2  4]\n",
            " [ 5  6  8]\n",
            " [ 9 10 12]]\n"
          ],
          "name": "stdout"
        }
      ]
    },
    {
      "cell_type": "markdown",
      "metadata": {
        "id": "tO74Bk4vdpYA",
        "colab_type": "text"
      },
      "source": [
        "10. Combining/splitting of numpy array\n",
        "\n",
        ">>numpy.concatenate((a1, a2, ...), axis=0, out=None):**Join a sequence of arrays along an existing axis.**\n",
        "\n",
        "\n",
        ">>>a1, a2, … : sequence of array_like\n",
        "The arrays must have the same shape, except in the dimension corresponding to axis (the first, by default).\n",
        "\n",
        ">>>axis : int, optional\n",
        "The axis along which the arrays will be joined. If axis is None, arrays are flattened before use. Default is 0.\n",
        "\n",
        ">>>out : ndarray, optional\n",
        "If provided, the destination to place the result. The shape must be correct, matching that of what concatenate would have returned if no out argument were specified.\n",
        "\n",
        "\n",
        ">>numpy.split(ary, indices_or_sections, axis=0):**Split an array into multiple sub-arrays**\n",
        "\n",
        ">>>ary : ndarray\n",
        ">>>>Array to be divided into sub-arrays.\n",
        "\n",
        ">>>indices_or_sections : int or 1-D array\n",
        ">>>>If indices_or_sections is an integer, N, the array will be divided into N equal arrays along axis. If such a split is not possible, an error is raised.\n",
        "\n",
        ">>>>If indices_or_sections is a 1-D array of sorted integers, the entries indicate where along axis the array is split. For example, [2, 3] would, for axis=0, result in\n",
        "\n",
        ">>>>>ary[:2]\n",
        ">>>>>ary[2:3]\n",
        ">>>>>ary[3:]\n",
        "\n",
        "\n",
        ">>>>**If an index exceeds the dimension of the array along axis, an empty sub-array is returned correspondingly.**\n",
        "\n",
        ">>>>axis : int, optional\n",
        ">>>>>The axis along which to split, default is 0.\n",
        "\n",
        "\n",
        ">>numpy.hsplit(ary, indices_or_sections):**Split an array into multiple sub-arrays horizontally (column-wise).**\n",
        "\n",
        ">>numpy.vsplit(ary, indices_or_sections):**Split an array into multiple sub-arrays vertically (row-wise).**"
      ]
    },
    {
      "cell_type": "code",
      "metadata": {
        "id": "myxF-N_xW0AL",
        "colab_type": "code",
        "outputId": "14b193a5-526c-4e82-c4de-f321bb117c49",
        "colab": {
          "base_uri": "https://localhost:8080/",
          "height": 243
        }
      },
      "source": [
        "#concatenate\n",
        "print('----Concatenate----')\n",
        "x=np.array([[1,2,3],[4,5,6]])   ## 2x3\n",
        "y=np.array([[1],[2]])        ##2x1\n",
        "z=np.concatenate((x,y),axis=1)    ## x and y should have same shape except the dimension of the axis i.e column here(axis=1)\n",
        "print('x:',x)\n",
        "print('y:',y)\n",
        "print(' concat when axis=1:',z)\n",
        "\n",
        "#split\n",
        "\n",
        "print('----split----')\n",
        "x=np.arange(0,20,2)\n",
        "y=np.split(x,2,axis=0)\n",
        "z=np.split(x, [3, 5, 6, 10,15])\n",
        "print('y:',y)\n",
        "print('z:',z)\n",
        "\n",
        "#hsplit  splitting column-wise\n",
        "print('----hsplit---')\n",
        "x=np.arange(0,20,2)\n",
        "y=np.hsplit(x,2)\n",
        "z=np.hsplit(x, np.array([3, 6]))\n",
        "print('y:',y)\n",
        "print('z:',z)"
      ],
      "execution_count": 0,
      "outputs": [
        {
          "output_type": "stream",
          "text": [
            "----Concatenate----\n",
            "x: [[1 2 3]\n",
            " [4 5 6]]\n",
            "y: [[1]\n",
            " [2]]\n",
            " concat when axis=1: [[1 2 3 1]\n",
            " [4 5 6 2]]\n",
            "----split----\n",
            "y: [array([0, 2, 4, 6, 8]), array([10, 12, 14, 16, 18])]\n",
            "z: [array([0, 2, 4]), array([6, 8]), array([10]), array([12, 14, 16, 18]), array([], dtype=int64), array([], dtype=int64)]\n",
            "----hsplit---\n",
            "y: [array([0, 2, 4, 6, 8]), array([10, 12, 14, 16, 18])]\n",
            "z: [array([0, 2, 4]), array([ 6,  8, 10]), array([12, 14, 16, 18])]\n"
          ],
          "name": "stdout"
        }
      ]
    },
    {
      "cell_type": "markdown",
      "metadata": {
        "id": "R42qQ8kQCKhu",
        "colab_type": "text"
      },
      "source": [
        "11. Scalar math\n",
        "\n",
        ">>np.add(arr,1) | Add 1 to each array element\n",
        "\n",
        ">>np.subtract(arr,2) | Subtract 2 from each array element\n",
        "\n",
        ">>np.multiply(arr,3) | Multiply each array element by 3\n",
        "\n",
        ">>np.divide(arr,4) | Divide each array element by 4 (returns np.nan for division by zero)\n",
        "\n",
        ">>np.power(arr,5) | Raise each array element to the 5th power"
      ]
    },
    {
      "cell_type": "markdown",
      "metadata": {
        "id": "n1QQWh_DCciq",
        "colab_type": "text"
      },
      "source": [
        "12. Vector math\n",
        "\n",
        "  np.add(arr1,arr2) | Elementwise add arr2 to arr1\n",
        "\n",
        "  np.subtract(arr1,arr2) | Elementwise subtract arr2 from arr1\n",
        "\n",
        "  np.multiply(arr1,arr2) | Elementwise multiply arr1 by arr2\n",
        "\n",
        "  np.divide(arr1,arr2) | Elementwise divide arr1 by arr2\n",
        "\n",
        "  np.power(arr1,arr2) | Elementwise raise arr1 raised to the power of arr2\n",
        "\n",
        "  np.array_equal(arr1,arr2) | Returns True if the arrays have the same elements and shape\n",
        "\n",
        "  np.sqrt(arr) | Square root of each element in the array\n",
        "\n",
        "  np.sin(arr) | Sine of each element in the array\n",
        "\n",
        "  np.log(arr) | Natural log of each element in the array\n",
        "\n",
        "  np.abs(arr) | Absolute value of each element in the array\n",
        "\n",
        "  np.ceil(arr) | Rounds up to the nearest int\n",
        "\n",
        "  np.floor(arr) | Rounds down to the nearest int\n",
        "\n",
        "  np.round(arr) | Rounds to the nearest int"
      ]
    },
    {
      "cell_type": "markdown",
      "metadata": {
        "id": "HvzzWTYRFXI4",
        "colab_type": "text"
      },
      "source": [
        "13. Statistics\n",
        "\n",
        "    np.mean(arr,axis=0) | Returns mean along specific axis\n",
        "    \n",
        "    arr.sum() | Returns sum of arr\n",
        "    \n",
        "    arr.min() | Returns minimum value of arr\n",
        "    \n",
        "    arr.max(axis=0) | Returns maximum value of specific axis\n",
        "    \n",
        "    np.var(arr) | Returns the variance of array\n",
        "    \n",
        "    np.std(arr,axis=1) | Returns the standard deviation of specific axis\n",
        "    \n",
        "    arr.corrcoef() | Returns correlation coefficient of array"
      ]
    },
    {
      "cell_type": "markdown",
      "metadata": {
        "id": "_DR3PiGms61Z",
        "colab_type": "text"
      },
      "source": [
        "  14. *numpy.random.seed*\n",
        "  numpy.random.seed(seed=None) Seed the generator.\n",
        "\n",
        "  This method is called when RandomState is initialized. It can be called again to re-seed the generator. For details, see RandomState.\n",
        "\n",
        "  Parameters:\t\n",
        "  seed : int or 1-d array_like, optional\n",
        "  Seed for RandomState. Must be convertible to 32 bit unsigned integers.\n",
        "\n"
      ]
    },
    {
      "cell_type": "code",
      "metadata": {
        "id": "IVJ5nfoj2cw_",
        "colab_type": "code",
        "colab": {
          "base_uri": "https://localhost:8080/",
          "height": 191
        },
        "outputId": "16d75e2e-c045-4b1f-a57d-a791ea94bc42"
      },
      "source": [
        "import numpy as np\n",
        "np.random.seed(0)\n",
        "print(np.random.rand(10))\n",
        "np.random.seed(0)\n",
        "print(np.random.rand(10))\n",
        "np.random.seed(3)\n",
        "print(np.random.rand(10))\n",
        "np.random.seed(0)\n",
        "print(np.random.rand(10))\n",
        "np.random.seed(3)\n",
        "print(np.random.rand(10))\n",
        "\n"
      ],
      "execution_count": 8,
      "outputs": [
        {
          "output_type": "stream",
          "text": [
            "[0.5488135  0.71518937 0.60276338 0.54488318 0.4236548  0.64589411\n",
            " 0.43758721 0.891773   0.96366276 0.38344152]\n",
            "[0.5488135  0.71518937 0.60276338 0.54488318 0.4236548  0.64589411\n",
            " 0.43758721 0.891773   0.96366276 0.38344152]\n",
            "[0.5507979  0.70814782 0.29090474 0.51082761 0.89294695 0.89629309\n",
            " 0.12558531 0.20724288 0.0514672  0.44080984]\n",
            "[0.5488135  0.71518937 0.60276338 0.54488318 0.4236548  0.64589411\n",
            " 0.43758721 0.891773   0.96366276 0.38344152]\n",
            "[0.5507979  0.70814782 0.29090474 0.51082761 0.89294695 0.89629309\n",
            " 0.12558531 0.20724288 0.0514672  0.44080984]\n"
          ],
          "name": "stdout"
        }
      ]
    },
    {
      "cell_type": "code",
      "metadata": {
        "id": "AsGs9dlqHn5H",
        "colab_type": "code",
        "colab": {}
      },
      "source": [
        ""
      ],
      "execution_count": 0,
      "outputs": []
    }
  ]
}