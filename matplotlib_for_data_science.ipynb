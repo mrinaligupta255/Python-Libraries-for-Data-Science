{
  "nbformat": 4,
  "nbformat_minor": 0,
  "metadata": {
    "colab": {
      "name": "matplotlib for data science.ipynb",
      "provenance": [],
      "collapsed_sections": [],
      "include_colab_link": true
    },
    "kernelspec": {
      "name": "python3",
      "display_name": "Python 3"
    }
  },
  "cells": [
    {
      "cell_type": "markdown",
      "metadata": {
        "id": "view-in-github",
        "colab_type": "text"
      },
      "source": [
        "<a href=\"https://colab.research.google.com/github/mrinaligupta255/Python-Libraries-for-Data-Science/blob/master/matplotlib_for_data_science.ipynb\" target=\"_parent\"><img src=\"https://colab.research.google.com/assets/colab-badge.svg\" alt=\"Open In Colab\"/></a>"
      ]
    },
    {
      "cell_type": "markdown",
      "metadata": {
        "id": "6kOCFs9EGkVj",
        "colab_type": "text"
      },
      "source": [
        "##MATPLOTLIB  PRACTISE"
      ]
    },
    {
      "cell_type": "code",
      "metadata": {
        "id": "OqijY7p83cxK",
        "colab_type": "code",
        "colab": {}
      },
      "source": [
        "import matplotlib.pyplot as plt"
      ],
      "execution_count": 0,
      "outputs": []
    },
    {
      "cell_type": "markdown",
      "metadata": {
        "id": "tMxIcmyyBVMD",
        "colab_type": "text"
      },
      "source": [
        "Frequently used commands in the given examples:\n",
        "\n",
        "    plt.figure(): To create a new figure\n",
        "    plt.plot(): Plot y versus x as lines and/or markers\n",
        "    plt.xlabel(): Set the label for the x-axis\n",
        "    plt.ylabel(): Set the label for the y-axis\n",
        "    plt.title(): Set a title for the axes\n",
        "    plt.grid(): Configure the grid lines\n",
        "    plt.legend(): Place a legend on the axes\n",
        "    plt.savefig(): To save the current figure on the disk\n",
        "    plt.show(): Display a figure\n",
        "    plt.clf(): Clear the current figure(useful to plot multiple figures in the same code)"
      ]
    },
    {
      "cell_type": "markdown",
      "metadata": {
        "id": "Q8VnJoD9nQRu",
        "colab_type": "text"
      },
      "source": [
        "#Practise on Vancouver property tax report dataset "
      ]
    },
    {
      "cell_type": "code",
      "metadata": {
        "id": "hWCdMxF0nUTr",
        "colab_type": "code",
        "colab": {
          "base_uri": "https://localhost:8080/",
          "height": 35
        },
        "outputId": "e9749058-13d0-4b26-9ffd-cc0285fce59f"
      },
      "source": [
        "from google.colab import drive\n",
        "drive.mount('/content/gdrive/')\n"
      ],
      "execution_count": 3,
      "outputs": [
        {
          "output_type": "stream",
          "text": [
            "Drive already mounted at /content/gdrive/; to attempt to forcibly remount, call drive.mount(\"/content/gdrive/\", force_remount=True).\n"
          ],
          "name": "stdout"
        }
      ]
    },
    {
      "cell_type": "code",
      "metadata": {
        "id": "uXp54mnHpKKZ",
        "colab_type": "code",
        "colab": {
          "base_uri": "https://localhost:8080/",
          "height": 35
        },
        "outputId": "d62415df-e7b7-4ab4-c417-d049c19c1714"
      },
      "source": [
        "import numpy as np\n",
        "import pandas as pd\n",
        "df=pd.read_csv('/content/gdrive/My Drive/Datasets/data_property_tax_report_2018.csv')\n",
        "#print(df.shape)\n",
        "#print(df.columns)\n",
        "year_build=df['YEAR_BUILT']\n",
        "#print(year_build)\n",
        "#print(df[1:4])\n",
        "#print(df.iloc[1:4,1:7])\n",
        "#print(df.count())   # counts the number of non null value in earch dataframe column\n",
        "print(df.YEAR_BUILT.count()) # give count of a particular column"
      ],
      "execution_count": 49,
      "outputs": [
        {
          "output_type": "stream",
          "text": [
            "194899\n"
          ],
          "name": "stdout"
        }
      ]
    },
    {
      "cell_type": "markdown",
      "metadata": {
        "id": "dHQ4kxTyqDw3",
        "colab_type": "text"
      },
      "source": [
        "The dataset contains total 205346 records and 28 columns each records\n",
        "205346x23\n",
        "\n",
        "columns=\n",
        "\n",
        "    ['PID', 'LEGAL_TYPE', 'FOLIO', 'LAND_COORDINATE', 'ZONE_NAME',\n",
        "          'ZONE_CATEGORY', 'LOT', 'BLOCK', 'PLAN', 'DISTRICT_LOT',\n",
        "          'FROM_CIVIC_NUMBER', 'TO_CIVIC_NUMBER', 'STREET_NAME',\n",
        "          'PROPERTY_POSTAL_CODE', 'NARRATIVE_LEGAL_LINE1',\n",
        "          'NARRATIVE_LEGAL_LINE2', 'NARRATIVE_LEGAL_LINE3',\n",
        "          'NARRATIVE_LEGAL_LINE4', 'NARRATIVE_LEGAL_LINE5', 'CURRENT_LAND_VALUE',\n",
        "          'CURRENT_IMPROVEMENT_VALUE', 'TAX_ASSESSMENT_YEAR',\n",
        "          'PREVIOUS_LAND_VALUE', 'PREVIOUS_IMPROVEMENT_VALUE', 'YEAR_BUILT',\n",
        "          'BIG_IMPROVEMENT_YEAR', 'TAX_LEVY', 'NEIGHBOURHOOD_CODE']"
      ]
    },
    {
      "cell_type": "code",
      "metadata": {
        "id": "vulnXl5_p089",
        "colab_type": "code",
        "colab": {
          "base_uri": "https://localhost:8080/",
          "height": 415
        },
        "outputId": "024d7cce-ac29-4c3b-953b-d1c0474ffdf7"
      },
      "source": [
        "#grouping th number of biulding based on the year\n",
        "x=df.groupby('YEAR_BUILT',as_index=False).count()\n",
        "x[['PID','YEAR_BUILT']]"
      ],
      "execution_count": 52,
      "outputs": [
        {
          "output_type": "execute_result",
          "data": {
            "text/html": [
              "<div>\n",
              "<style scoped>\n",
              "    .dataframe tbody tr th:only-of-type {\n",
              "        vertical-align: middle;\n",
              "    }\n",
              "\n",
              "    .dataframe tbody tr th {\n",
              "        vertical-align: top;\n",
              "    }\n",
              "\n",
              "    .dataframe thead th {\n",
              "        text-align: right;\n",
              "    }\n",
              "</style>\n",
              "<table border=\"1\" class=\"dataframe\">\n",
              "  <thead>\n",
              "    <tr style=\"text-align: right;\">\n",
              "      <th></th>\n",
              "      <th>PID</th>\n",
              "      <th>YEAR_BUILT</th>\n",
              "    </tr>\n",
              "  </thead>\n",
              "  <tbody>\n",
              "    <tr>\n",
              "      <th>0</th>\n",
              "      <td>33</td>\n",
              "      <td>1800.0</td>\n",
              "    </tr>\n",
              "    <tr>\n",
              "      <th>1</th>\n",
              "      <td>1</td>\n",
              "      <td>1886.0</td>\n",
              "    </tr>\n",
              "    <tr>\n",
              "      <th>2</th>\n",
              "      <td>1</td>\n",
              "      <td>1890.0</td>\n",
              "    </tr>\n",
              "    <tr>\n",
              "      <th>3</th>\n",
              "      <td>1</td>\n",
              "      <td>1893.0</td>\n",
              "    </tr>\n",
              "    <tr>\n",
              "      <th>4</th>\n",
              "      <td>4</td>\n",
              "      <td>1898.0</td>\n",
              "    </tr>\n",
              "    <tr>\n",
              "      <th>...</th>\n",
              "      <td>...</td>\n",
              "      <td>...</td>\n",
              "    </tr>\n",
              "    <tr>\n",
              "      <th>117</th>\n",
              "      <td>3465</td>\n",
              "      <td>2011.0</td>\n",
              "    </tr>\n",
              "    <tr>\n",
              "      <th>118</th>\n",
              "      <td>3415</td>\n",
              "      <td>2012.0</td>\n",
              "    </tr>\n",
              "    <tr>\n",
              "      <th>119</th>\n",
              "      <td>3874</td>\n",
              "      <td>2013.0</td>\n",
              "    </tr>\n",
              "    <tr>\n",
              "      <th>120</th>\n",
              "      <td>3236</td>\n",
              "      <td>2014.0</td>\n",
              "    </tr>\n",
              "    <tr>\n",
              "      <th>121</th>\n",
              "      <td>18</td>\n",
              "      <td>2015.0</td>\n",
              "    </tr>\n",
              "  </tbody>\n",
              "</table>\n",
              "<p>122 rows × 2 columns</p>\n",
              "</div>"
            ],
            "text/plain": [
              "      PID  YEAR_BUILT\n",
              "0      33      1800.0\n",
              "1       1      1886.0\n",
              "2       1      1890.0\n",
              "3       1      1893.0\n",
              "4       4      1898.0\n",
              "..    ...         ...\n",
              "117  3465      2011.0\n",
              "118  3415      2012.0\n",
              "119  3874      2013.0\n",
              "120  3236      2014.0\n",
              "121    18      2015.0\n",
              "\n",
              "[122 rows x 2 columns]"
            ]
          },
          "metadata": {
            "tags": []
          },
          "execution_count": 52
        }
      ]
    },
    {
      "cell_type": "markdown",
      "metadata": {
        "id": "-17lDhqOqDSi",
        "colab_type": "text"
      },
      "source": [
        ""
      ]
    }
  ]
}