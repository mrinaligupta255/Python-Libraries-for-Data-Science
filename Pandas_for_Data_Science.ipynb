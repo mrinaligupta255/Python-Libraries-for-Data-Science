{
  "nbformat": 4,
  "nbformat_minor": 0,
  "metadata": {
    "colab": {
      "name": "Pandas for Data Science.ipynb",
      "provenance": [],
      "include_colab_link": true
    },
    "kernelspec": {
      "name": "python3",
      "display_name": "Python 3"
    }
  },
  "cells": [
    {
      "cell_type": "markdown",
      "metadata": {
        "id": "view-in-github",
        "colab_type": "text"
      },
      "source": [
        "<a href=\"https://colab.research.google.com/github/mrinaligupta255/Python-Libraries-for-Data-Science/blob/master/Pandas_for_Data_Science.ipynb\" target=\"_parent\"><img src=\"https://colab.research.google.com/assets/colab-badge.svg\" alt=\"Open In Colab\"/></a>"
      ]
    },
    {
      "cell_type": "markdown",
      "metadata": {
        "id": "mNiWWFnnRkRh",
        "colab_type": "text"
      },
      "source": [
        "##Pandas\n",
        " is used for data manipulation, analysis and cleaning. Python pandas is well suited for different kinds of data, such as: \n",
        "\n",
        "Tabular data with heterogeneously-typed columns\n",
        "Ordered and unordered time series data\n",
        "Arbitrary matrix data with row & column labels\n",
        "Unlabelled data\n",
        "Any other form of observational or statistical data sets"
      ]
    },
    {
      "cell_type": "code",
      "metadata": {
        "id": "aqc4WKqtRnfe",
        "colab_type": "code",
        "colab": {}
      },
      "source": [
        "import pandas as pd\n",
        "import numpy as np"
      ],
      "execution_count": 0,
      "outputs": []
    },
    {
      "cell_type": "markdown",
      "metadata": {
        "id": "5av_QVltRZ_m",
        "colab_type": "text"
      },
      "source": [
        "##Data Structures in pandas\n",
        "\n",
        "#1. Series\n",
        "\n",
        "Series is a one-dimensional labeled array capable of holding any data type (integers, strings, floating point numbers, Python objects, etc.). The axis labels are collectively referred to as the index. \n",
        "\n",
        "    s = pandas.Series(data=None, index=None, dtype=None, name=None, copy=False, fastpath=False)\n",
        "Here, data can be many different things:\n",
        "\n",
        "    a Python dict\n",
        "    an ndarray\n",
        "    a scalar value (like 5)\n",
        "The passed index is a list of axis labels. "
      ]
    },
    {
      "cell_type": "code",
      "metadata": {
        "id": "mAfxeP0lRUv0",
        "colab_type": "code",
        "colab": {
          "base_uri": "https://localhost:8080/",
          "height": 225
        },
        "outputId": "4e9c1209-9b90-4773-8195-4eef2f6a0cc9"
      },
      "source": [
        " s=pd.Series(np.random.randn(5))\n",
        "print('Without indexgiven',s)\n",
        " s = pd.Series(np.random.randn(5), index=['a', 'b', 'c', 'd', 'e'])\n",
        " print('with index given',s)"
      ],
      "execution_count": 2,
      "outputs": [
        {
          "output_type": "stream",
          "text": [
            "Without indexgiven 0    0.558703\n",
            "1    1.119122\n",
            "2   -0.868704\n",
            "3   -0.052315\n",
            "4   -0.300475\n",
            "dtype: float64\n",
            "with index given a    1.165556\n",
            "b    1.189044\n",
            "c    1.762687\n",
            "d    1.263990\n",
            "e    0.448424\n",
            "dtype: float64\n"
          ],
          "name": "stdout"
        }
      ]
    },
    {
      "cell_type": "markdown",
      "metadata": {
        "id": "NxWQuxpzTkIu",
        "colab_type": "text"
      },
      "source": [
        "**Note:** pandas supports non-unique index values. If an operation that does not support duplicate index values is attempted, an exception will be raised at that time. The reason for being lazy is nearly all performance-based (there are many instances in computations, like parts of GroupBy, where the index is not used)."
      ]
    },
    {
      "cell_type": "code",
      "metadata": {
        "id": "63796cwDTd7B",
        "colab_type": "code",
        "colab": {
          "base_uri": "https://localhost:8080/",
          "height": 87
        },
        "outputId": "25ff2316-18f6-4e91-d292-f3e7605dab3e"
      },
      "source": [
        "s = pd.Series(np.random.randn(5), index=['a', 'a', 'a', 'd', 'e'])\n",
        "print('with index given',s['a'])"
      ],
      "execution_count": 4,
      "outputs": [
        {
          "output_type": "stream",
          "text": [
            "with index given a    0.092236\n",
            "a   -0.349679\n",
            "a    0.517532\n",
            "dtype: float64\n"
          ],
          "name": "stdout"
        }
      ]
    },
    {
      "cell_type": "markdown",
      "metadata": {
        "id": "jqrbJFtyT2Kg",
        "colab_type": "text"
      },
      "source": [
        "If an index is passed, the values in data corresponding to the labels in the index will be pulled out from the dictonary while creating series from a dictonary."
      ]
    },
    {
      "cell_type": "code",
      "metadata": {
        "id": "XjUG-Mg9TrJ6",
        "colab_type": "code",
        "colab": {
          "base_uri": "https://localhost:8080/",
          "height": 173
        },
        "outputId": "ec37c60c-4517-4b4d-e08e-97ffcc333494"
      },
      "source": [
        "d = {'a' : 0., 'b' : 1., 'c' : 2.}\n",
        "s=pd.Series(d)\n",
        "print(s)\n",
        "s=pd.Series(d, index=['b', 'c', 'd', 'a'],name='dict_series')\n",
        "print(s)"
      ],
      "execution_count": 7,
      "outputs": [
        {
          "output_type": "stream",
          "text": [
            "a    0.0\n",
            "b    1.0\n",
            "c    2.0\n",
            "dtype: float64\n",
            "b    1.0\n",
            "c    2.0\n",
            "d    NaN\n",
            "a    0.0\n",
            "Name: dict_series, dtype: float64\n"
          ],
          "name": "stdout"
        }
      ]
    },
    {
      "cell_type": "markdown",
      "metadata": {
        "id": "oAb-NIllUesU",
        "colab_type": "text"
      },
      "source": [
        "**Note:** NaN (not a number) is the standard missing data marker used in pandas."
      ]
    },
    {
      "cell_type": "markdown",
      "metadata": {
        "id": "_SpCvbTYUt5j",
        "colab_type": "text"
      },
      "source": [
        "##2. DataFrame\n",
        "\n",
        "DataFrame is a 2-dimensional labeled data structure with columns of potentially different types. You can think of it like a spreadsheet or SQL table, or a dict of Series objects. It is generally the most commonly used pandas object. Like Series, DataFrame accepts many different kinds of input:\n",
        "\n",
        "Dict of 1D ndarrays, lists, dicts, or Series\n",
        "\n",
        "    2-D numpy.ndarray\n",
        "    Structured or record ndarray\n",
        "    A Series\n",
        "    Another DataFrame"
      ]
    },
    {
      "cell_type": "code",
      "metadata": {
        "id": "8p9cVqMgVvyU",
        "colab_type": "code",
        "colab": {
          "base_uri": "https://localhost:8080/",
          "height": 87
        },
        "outputId": "f0a3b05f-3566-431d-aafb-83492ebc9551"
      },
      "source": [
        " data = {'Country': ['Belgium', 'India', 'Brazil'],\n",
        " 'Capital': ['Brussels', 'New Delhi', 'Brasília'],\n",
        " 'Population': [11190846, 1303171035, 207847528]}\n",
        " df = pd.DataFrame(data,\n",
        " columns=['Country', 'Capital', 'Population'])\n",
        " print(df)\n"
      ],
      "execution_count": 8,
      "outputs": [
        {
          "output_type": "stream",
          "text": [
            "   Country    Capital  Population\n",
            "0  Belgium   Brussels    11190846\n",
            "1    India  New Delhi  1303171035\n",
            "2   Brazil   Brasília   207847528\n"
          ],
          "name": "stdout"
        }
      ]
    },
    {
      "cell_type": "markdown",
      "metadata": {
        "id": "jzBwswN5VfoP",
        "colab_type": "text"
      },
      "source": [
        "Along with the data, you can optionally pass index (row labels) and columns (column labels) arguments. If you pass an index and / or columns, you are guaranteeing the index and / or columns of the resulting DataFrame. Thus, a dict of Series plus a specific index will discard all data not matching up to the passed index.\n",
        "\n",
        "If axis labels are not passed, they will be constructed from the input data based on common sense rules."
      ]
    },
    {
      "cell_type": "code",
      "metadata": {
        "id": "gqGcfqqbUXSp",
        "colab_type": "code",
        "colab": {
          "base_uri": "https://localhost:8080/",
          "height": 243
        },
        "outputId": "3b31582a-62dc-4713-9dbf-fd386b7b4b6c"
      },
      "source": [
        "d = {'one' : pd.Series([1., 2., 3.], index=['a', 'b', 'c']),\n",
        "   'two' : pd.Series([1., 2., 3., 4.], index=['a', 'b', 'c', 'd'])}\n",
        "df=pd.DataFrame(d)\n",
        "print(df)\n",
        "df=pd.DataFrame(d, index=['d', 'b', 'a'])\n",
        "print(df)\n",
        "df=pd.DataFrame(d, index=['d', 'b', 'a'], columns=['two', 'three'])\n",
        "print(df)"
      ],
      "execution_count": 10,
      "outputs": [
        {
          "output_type": "stream",
          "text": [
            "   one  two\n",
            "a  1.0  1.0\n",
            "b  2.0  2.0\n",
            "c  3.0  3.0\n",
            "d  NaN  4.0\n",
            "   one  two\n",
            "d  NaN  4.0\n",
            "b  2.0  2.0\n",
            "a  1.0  1.0\n",
            "   two three\n",
            "d  4.0   NaN\n",
            "b  2.0   NaN\n",
            "a  1.0   NaN\n"
          ],
          "name": "stdout"
        }
      ]
    },
    {
      "cell_type": "markdown",
      "metadata": {
        "id": "OaulJlcYWsQq",
        "colab_type": "text"
      },
      "source": [
        "The row and column labels can be accessed respectively by accessing the index and columns attributes:\n",
        "\n",
        "**Note: When a particular set of columns is passed along with a dict of data, the passed columns override the keys in the dict.**"
      ]
    },
    {
      "cell_type": "code",
      "metadata": {
        "id": "3c64KH_-W7Z6",
        "colab_type": "code",
        "colab": {
          "base_uri": "https://localhost:8080/",
          "height": 52
        },
        "outputId": "00c47605-15ad-44db-9b32-bccb5d317b3e"
      },
      "source": [
        "print(df.index)\n",
        "print(df.columns)"
      ],
      "execution_count": 12,
      "outputs": [
        {
          "output_type": "stream",
          "text": [
            "Index(['d', 'b', 'a'], dtype='object')\n",
            "Index(['two', 'three'], dtype='object')\n"
          ],
          "name": "stdout"
        }
      ]
    },
    {
      "cell_type": "markdown",
      "metadata": {
        "id": "6DI0NX8bVIyM",
        "colab_type": "text"
      },
      "source": [
        "##Importing Data\n",
        "    pd.read_csv(filename) | From a CSV file , user header=None if the file is not having columns name\n",
        "    pd.read_table(filename) | From a delimited text file (like TSV)\n",
        "    pd.read_excel(filename) | From an Excel file\n",
        "    pd.read_sql(query, connection_object) | Read from a SQL table/database\n",
        "    pd.read_json(json_string) | Read from a JSON formatted string, URL or file.\n",
        "    pd.read_html(url) | Parses an html URL, string or file and extracts tables to a list of dataframes\n",
        "    pd.read_clipboard() | Takes the contents of your clipboard and passes it to read_table()\n",
        "    pd.DataFrame(dict) | From a dict, keys for columns names, values for data as lists\n",
        "\n",
        "##Exporting Data\n",
        "    df.to_csv(filename) | Write to a CSV file\n",
        "    df.to_excel(filename) | Write to an Excel file\n",
        "    df.to_sql(table_name, connection_object) | Write to a SQL table\n",
        "    df.to_json(filename) | Write to a file in JSON format"
      ]
    },
    {
      "cell_type": "markdown",
      "metadata": {
        "id": "ckMPxuLOXjUd",
        "colab_type": "text"
      },
      "source": [
        "Viewing/Inspecting Data\n",
        "\n",
        "    df.head(n) | First n rows of the DataFrame\n",
        "    df.tail(n) | Last n rows of the DataFrame\n",
        "    df.shape | Number of rows and columns\n",
        "    df.info() | Index, Datatype and Memory information\n",
        "    df.describe() | Summary statistics for numerical columns\n",
        "    s.value_counts(dropna=False) | View unique values and counts\n",
        "    df.apply(pd.Series.value_counts) | Unique values and counts for all columns\n",
        "\n",
        "    "
      ]
    },
    {
      "cell_type": "markdown",
      "metadata": {
        "id": "3I2vR-4HYBId",
        "colab_type": "text"
      },
      "source": [
        "##Selection\n",
        "    df.values| Return a Numpy representation of the DataFrame.\n",
        "    df[1:4] | get subset of a dataframe\n",
        "    df[col] | Returns column with label col as Series\n",
        "    df[[col1, col2]] | Returns columns as a new DataFrame\n",
        "    s.iloc[0] | Selection by position\n",
        "    s.loc['index_one'] | Selection by index\n",
        "    df.iloc[0,:] | First row\n",
        "    df.iloc[0,0] | First element of first column\n",
        "\n",
        "**loc** gets rows (or columns) with particular labels from the index.\n",
        "\n",
        "**iloc** gets rows (or columns) at particular positions in the index (so it only takes integers)."
      ]
    },
    {
      "cell_type": "code",
      "metadata": {
        "id": "vMATheZSYTcJ",
        "colab_type": "code",
        "colab": {
          "base_uri": "https://localhost:8080/",
          "height": 711
        },
        "outputId": "5803fbef-6da8-4878-e8ee-a217f79eb1d1"
      },
      "source": [
        "d = {'one' : pd.Series([1., 2., 3.], index=['a', 'b', 'c']),\n",
        "   'two' : pd.Series([1., 2., 3., 4.], index=['a', 'b', 'c', 'd']),'three':pd.Series([1,2,3,4,5],index=['a','b','c','d','e'])\n",
        "   }\n",
        "df=pd.DataFrame(d)\n",
        "print('dataframe')\n",
        "print(df)\n",
        "print('subset of dataframe')\n",
        "print(df[1:3])\n",
        "print('values of a dataframe')\n",
        "print(df.values) # will give a numpy array representation\n",
        "print()\n",
        "print(df['one'])\n",
        "print('selection by index')\n",
        "print(df.loc['a'])\n",
        "print(df[['one','three']])\n",
        "print(df.iloc[1].values)\n",
        "print(df[1:4])\n",
        "\n"
      ],
      "execution_count": 47,
      "outputs": [
        {
          "output_type": "stream",
          "text": [
            "dataframe\n",
            "   one  two  three\n",
            "a  1.0  1.0      1\n",
            "b  2.0  2.0      2\n",
            "c  3.0  3.0      3\n",
            "d  NaN  4.0      4\n",
            "e  NaN  NaN      5\n",
            "subset of dataframe\n",
            "   one  two  three\n",
            "b  2.0  2.0      2\n",
            "c  3.0  3.0      3\n",
            "values of a dataframe\n",
            "[[ 1.  1.  1.]\n",
            " [ 2.  2.  2.]\n",
            " [ 3.  3.  3.]\n",
            " [nan  4.  4.]\n",
            " [nan nan  5.]]\n",
            "\n",
            "a    1.0\n",
            "b    2.0\n",
            "c    3.0\n",
            "d    NaN\n",
            "e    NaN\n",
            "Name: one, dtype: float64\n",
            "selection by index\n",
            "one      1.0\n",
            "two      1.0\n",
            "three    1.0\n",
            "Name: a, dtype: float64\n",
            "   one  three\n",
            "a  1.0      1\n",
            "b  2.0      2\n",
            "c  3.0      3\n",
            "d  NaN      4\n",
            "e  NaN      5\n",
            "[2. 2. 2.]\n",
            "   one  two  three\n",
            "b  2.0  2.0      2\n",
            "c  3.0  3.0      3\n",
            "d  NaN  4.0      4\n"
          ],
          "name": "stdout"
        }
      ]
    },
    {
      "cell_type": "code",
      "metadata": {
        "id": "LM6n0L4nXeB5",
        "colab_type": "code",
        "colab": {}
      },
      "source": [
        ""
      ],
      "execution_count": 0,
      "outputs": []
    }
  ]
}